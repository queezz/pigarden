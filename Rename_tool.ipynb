{
 "cells": [
  {
   "cell_type": "code",
   "execution_count": 20,
   "metadata": {},
   "outputs": [],
   "source": [
    "import os\n",
    "from os.path import join\n",
    "usr = os.path.expanduser('~')\n",
    "import time"
   ]
  },
  {
   "cell_type": "code",
   "execution_count": 2,
   "metadata": {},
   "outputs": [],
   "source": [
    "import datetime"
   ]
  },
  {
   "cell_type": "code",
   "execution_count": 3,
   "metadata": {},
   "outputs": [
    {
     "data": {
      "text/plain": [
       "'03 Aug 2021 15:54:58'"
      ]
     },
     "execution_count": 3,
     "metadata": {},
     "output_type": "execute_result"
    }
   ],
   "source": [
    "datetime.datetime.now().strftime('%d %b %Y %H:%M:%S')"
   ]
  },
  {
   "cell_type": "code",
   "execution_count": 4,
   "metadata": {},
   "outputs": [
    {
     "data": {
      "text/plain": [
       "'03 Aug 2021 15:54:59'"
      ]
     },
     "execution_count": 4,
     "metadata": {},
     "output_type": "execute_result"
    }
   ],
   "source": [
    "f\"{datetime.datetime.now().strftime('%d %b %Y %H:%M:%S')}\""
   ]
  },
  {
   "cell_type": "code",
   "execution_count": 6,
   "metadata": {},
   "outputs": [
    {
     "data": {
      "text/plain": [
       "['0000', '0001', '0002', '0003', '0004']"
      ]
     },
     "execution_count": 6,
     "metadata": {},
     "output_type": "execute_result"
    }
   ],
   "source": [
    "[f'{i:04d}' for i in range(5)]"
   ]
  },
  {
   "cell_type": "code",
   "execution_count": 44,
   "metadata": {},
   "outputs": [],
   "source": [
    "pth = r'C:\\Users\\queezz\\OneDrive\\Рабочий стол\\images'\n",
    "\n",
    "lds = os.listdir(pth)"
   ]
  },
  {
   "cell_type": "code",
   "execution_count": 30,
   "metadata": {},
   "outputs": [
    {
     "data": {
      "text/plain": [
       "'20210801_143642'"
      ]
     },
     "execution_count": 30,
     "metadata": {},
     "output_type": "execute_result"
    }
   ],
   "source": [
    "datetime.datetime.fromtimestamp(os.path.getmtime(join(pth,lds[0]))).strftime('%Y%m%d_%H%M%S')"
   ]
  },
  {
   "cell_type": "code",
   "execution_count": 45,
   "metadata": {},
   "outputs": [
    {
     "data": {
      "text/plain": [
       "'20210801_143642'"
      ]
     },
     "execution_count": 45,
     "metadata": {},
     "output_type": "execute_result"
    }
   ],
   "source": [
    "def modtime(f):\n",
    "    return datetime.datetime.fromtimestamp(os.path.getmtime(join(pth,f))).strftime('%Y%m%d_%H%M%S')\n",
    "modtime(lds[0])"
   ]
  },
  {
   "cell_type": "code",
   "execution_count": 66,
   "metadata": {},
   "outputs": [],
   "source": [
    "from PIL import Image\n",
    "def get_date_taken(f):\n",
    "    return datetime.datetime.strptime(Image.open(join(pth,f))._getexif()[36867],'%Y:%m:%d %H:%M:%S').strftime('%Y%m%d_%H%M%S')\n",
    "a = get_date_taken(join(pth,lds[4]))"
   ]
  },
  {
   "cell_type": "code",
   "execution_count": 68,
   "metadata": {
    "collapsed": false,
    "jupyter": {
     "outputs_hidden": false
    }
   },
   "outputs": [
    {
     "name": "stdout",
     "output_type": "stream",
     "text": [
      "old: 20210801_143642.jpg \tnew: 20210801_143623.jpg\n",
      "old: 20210801_145201.jpg \tnew: 20210801_144124.jpg\n",
      "old: 20210801_145202.jpg \tnew: 20210801_144624.jpg\n",
      "old: image0004.jpg \tnew: 20210801_145626.jpg\n",
      "old: image0005.jpg \tnew: 20210801_150126.jpg\n",
      "old: image0006.jpg \tnew: 20210801_150627.jpg\n",
      "old: image0007.jpg \tnew: 20210801_151128.jpg\n",
      "old: image0008.jpg \tnew: 20210801_151628.jpg\n",
      "old: image0009.jpg \tnew: 20210801_152129.jpg\n",
      "old: image0010.jpg \tnew: 20210801_152629.jpg\n",
      "old: image0011.jpg \tnew: 20210801_153130.jpg\n",
      "old: image0012.jpg \tnew: 20210801_153631.jpg\n",
      "old: image0013.jpg \tnew: 20210801_154131.jpg\n",
      "old: image0014.jpg \tnew: 20210801_154632.jpg\n",
      "old: image0015.jpg \tnew: 20210801_155133.jpg\n",
      "old: image0016.jpg \tnew: 20210801_155633.jpg\n",
      "old: image0017.jpg \tnew: 20210801_160134.jpg\n",
      "old: image0018.jpg \tnew: 20210801_160634.jpg\n",
      "old: image0019.jpg \tnew: 20210801_161135.jpg\n",
      "old: image0020.jpg \tnew: 20210801_161636.jpg\n",
      "old: image0021.jpg \tnew: 20210801_162136.jpg\n",
      "old: image0022.jpg \tnew: 20210801_162637.jpg\n",
      "old: image0023.jpg \tnew: 20210801_163138.jpg\n",
      "old: image0024.jpg \tnew: 20210801_163638.jpg\n",
      "old: image0025.jpg \tnew: 20210801_164139.jpg\n",
      "old: image0026.jpg \tnew: 20210801_164639.jpg\n",
      "old: image0027.jpg \tnew: 20210801_165140.jpg\n",
      "old: image0028.jpg \tnew: 20210801_165641.jpg\n",
      "old: image0029.jpg \tnew: 20210801_170141.jpg\n",
      "old: image0030.jpg \tnew: 20210801_170642.jpg\n",
      "old: image0031.jpg \tnew: 20210801_171142.jpg\n",
      "old: image0032.jpg \tnew: 20210801_171643.jpg\n",
      "old: image0033.jpg \tnew: 20210801_172144.jpg\n",
      "old: image0034.jpg \tnew: 20210801_172644.jpg\n",
      "old: image0035.jpg \tnew: 20210801_173145.jpg\n",
      "old: image0036.jpg \tnew: 20210801_173646.jpg\n",
      "old: image0037.jpg \tnew: 20210801_174146.jpg\n",
      "old: image0038.jpg \tnew: 20210801_174647.jpg\n",
      "old: image0039.jpg \tnew: 20210801_175148.jpg\n",
      "old: image0040.jpg \tnew: 20210801_175648.jpg\n",
      "old: image0041.jpg \tnew: 20210801_180149.jpg\n",
      "old: image0042.jpg \tnew: 20210801_180649.jpg\n",
      "old: image0043.jpg \tnew: 20210801_181150.jpg\n",
      "old: image0044.jpg \tnew: 20210801_181651.jpg\n",
      "old: image0045.jpg \tnew: 20210801_182151.jpg\n",
      "old: image0046.jpg \tnew: 20210801_182652.jpg\n",
      "old: image0047.jpg \tnew: 20210801_183153.jpg\n",
      "old: image0048.jpg \tnew: 20210801_183653.jpg\n",
      "old: image0049.jpg \tnew: 20210801_184154.jpg\n",
      "old: image0050.jpg \tnew: 20210801_184654.jpg\n",
      "old: image0051.jpg \tnew: 20210801_185155.jpg\n",
      "old: image0052.jpg \tnew: 20210801_185656.jpg\n",
      "old: image0053.jpg \tnew: 20210801_190156.jpg\n",
      "old: image0054.jpg \tnew: 20210801_190657.jpg\n",
      "old: image0055.jpg \tnew: 20210801_191158.jpg\n",
      "old: image0056.jpg \tnew: 20210801_191658.jpg\n",
      "old: image0057.jpg \tnew: 20210801_192159.jpg\n",
      "old: image0058.jpg \tnew: 20210801_192659.jpg\n",
      "old: image0059.jpg \tnew: 20210801_193200.jpg\n",
      "old: image0060.jpg \tnew: 20210801_193701.jpg\n",
      "old: image0061.jpg \tnew: 20210801_194201.jpg\n",
      "old: image0062.jpg \tnew: 20210801_194702.jpg\n",
      "old: image0063.jpg \tnew: 20210801_195203.jpg\n",
      "old: image0064.jpg \tnew: 20210801_195703.jpg\n",
      "old: image0065.jpg \tnew: 20210801_200204.jpg\n",
      "old: image0066.jpg \tnew: 20210801_200704.jpg\n",
      "old: image0067.jpg \tnew: 20210801_201205.jpg\n",
      "old: image0068.jpg \tnew: 20210801_201706.jpg\n",
      "old: image0069.jpg \tnew: 20210801_202206.jpg\n",
      "old: image0070.jpg \tnew: 20210801_202707.jpg\n",
      "old: image0071.jpg \tnew: 20210801_203208.jpg\n",
      "old: image0072.jpg \tnew: 20210801_203708.jpg\n",
      "old: image0073.jpg \tnew: 20210801_204209.jpg\n",
      "old: image0074.jpg \tnew: 20210801_204710.jpg\n",
      "old: image0075.jpg \tnew: 20210801_205210.jpg\n",
      "old: image0076.jpg \tnew: 20210801_205711.jpg\n",
      "old: image0077.jpg \tnew: 20210801_210212.jpg\n",
      "old: image0078.jpg \tnew: 20210801_210712.jpg\n",
      "old: image0079.jpg \tnew: 20210801_211213.jpg\n",
      "old: image0080.jpg \tnew: 20210801_211713.jpg\n",
      "old: image0081.jpg \tnew: 20210801_212214.jpg\n",
      "old: image0082.jpg \tnew: 20210801_212715.jpg\n",
      "old: image0083.jpg \tnew: 20210801_213215.jpg\n",
      "old: image0084.jpg \tnew: 20210801_213716.jpg\n",
      "old: image0085.jpg \tnew: 20210801_214217.jpg\n",
      "old: image0086.jpg \tnew: 20210801_214717.jpg\n",
      "old: image0087.jpg \tnew: 20210801_215218.jpg\n",
      "old: image0088.jpg \tnew: 20210801_215718.jpg\n",
      "old: image0089.jpg \tnew: 20210801_220219.jpg\n",
      "old: image0090.jpg \tnew: 20210801_220720.jpg\n",
      "old: image0091.jpg \tnew: 20210801_221220.jpg\n",
      "old: image0092.jpg \tnew: 20210801_221721.jpg\n",
      "old: image0093.jpg \tnew: 20210801_222222.jpg\n",
      "old: image0094.jpg \tnew: 20210801_222722.jpg\n",
      "old: image0095.jpg \tnew: 20210801_223223.jpg\n",
      "old: image0096.jpg \tnew: 20210801_223723.jpg\n",
      "old: image0097.jpg \tnew: 20210801_224224.jpg\n",
      "old: image0098.jpg \tnew: 20210801_224725.jpg\n",
      "old: image0099.jpg \tnew: 20210801_225225.jpg\n",
      "old: image0100.jpg \tnew: 20210801_225726.jpg\n",
      "old: image0101.jpg \tnew: 20210801_230227.jpg\n",
      "old: image0102.jpg \tnew: 20210801_230727.jpg\n",
      "old: image0103.jpg \tnew: 20210801_231228.jpg\n",
      "old: image0104.jpg \tnew: 20210801_231728.jpg\n",
      "old: image0105.jpg \tnew: 20210801_232229.jpg\n",
      "old: image0106.jpg \tnew: 20210801_232730.jpg\n",
      "old: image0107.jpg \tnew: 20210801_233230.jpg\n",
      "old: image0108.jpg \tnew: 20210801_233731.jpg\n",
      "old: image0109.jpg \tnew: 20210801_234232.jpg\n",
      "old: image0110.jpg \tnew: 20210801_234732.jpg\n",
      "old: image0111.jpg \tnew: 20210801_235233.jpg\n",
      "old: image0112.jpg \tnew: 20210801_235733.jpg\n",
      "old: image0113.jpg \tnew: 20210802_000234.jpg\n",
      "old: image0114.jpg \tnew: 20210802_000735.jpg\n",
      "old: image0115.jpg \tnew: 20210802_001235.jpg\n",
      "old: image0116.jpg \tnew: 20210802_001736.jpg\n",
      "old: image0117.jpg \tnew: 20210802_002236.jpg\n",
      "old: image0118.jpg \tnew: 20210802_002737.jpg\n",
      "old: image0119.jpg \tnew: 20210802_003238.jpg\n",
      "old: image0120.jpg \tnew: 20210802_003738.jpg\n",
      "old: image0121.jpg \tnew: 20210802_004239.jpg\n",
      "old: image0122.jpg \tnew: 20210802_004740.jpg\n",
      "old: image0123.jpg \tnew: 20210802_005240.jpg\n",
      "old: image0124.jpg \tnew: 20210802_005741.jpg\n",
      "old: image0125.jpg \tnew: 20210802_010241.jpg\n",
      "old: image0126.jpg \tnew: 20210802_010742.jpg\n",
      "old: image0127.jpg \tnew: 20210802_011243.jpg\n",
      "old: image0128.jpg \tnew: 20210802_011743.jpg\n",
      "old: image0129.jpg \tnew: 20210802_012244.jpg\n",
      "old: image0130.jpg \tnew: 20210802_012744.jpg\n",
      "old: image0131.jpg \tnew: 20210802_013245.jpg\n",
      "old: image0132.jpg \tnew: 20210802_013746.jpg\n",
      "old: image0133.jpg \tnew: 20210802_014246.jpg\n",
      "old: image0134.jpg \tnew: 20210802_014747.jpg\n",
      "old: image0135.jpg \tnew: 20210802_015248.jpg\n",
      "old: image0136.jpg \tnew: 20210802_015748.jpg\n",
      "old: image0137.jpg \tnew: 20210802_020249.jpg\n",
      "old: image0138.jpg \tnew: 20210802_020749.jpg\n",
      "old: image0139.jpg \tnew: 20210802_021250.jpg\n",
      "old: image0140.jpg \tnew: 20210802_021751.jpg\n",
      "old: image0141.jpg \tnew: 20210802_022251.jpg\n",
      "old: image0142.jpg \tnew: 20210802_022752.jpg\n",
      "old: image0143.jpg \tnew: 20210802_023253.jpg\n",
      "old: image0144.jpg \tnew: 20210802_023753.jpg\n",
      "old: image0145.jpg \tnew: 20210802_024254.jpg\n",
      "old: image0146.jpg \tnew: 20210802_024754.jpg\n",
      "old: image0147.jpg \tnew: 20210802_025255.jpg\n",
      "old: image0148.jpg \tnew: 20210802_025756.jpg\n",
      "old: image0149.jpg \tnew: 20210802_030256.jpg\n",
      "old: image0150.jpg \tnew: 20210802_030757.jpg\n",
      "old: image0151.jpg \tnew: 20210802_031258.jpg\n",
      "old: image0152.jpg \tnew: 20210802_031758.jpg\n",
      "old: image0153.jpg \tnew: 20210802_032259.jpg\n",
      "old: image0154.jpg \tnew: 20210802_032759.jpg\n",
      "old: image0155.jpg \tnew: 20210802_033300.jpg\n",
      "old: image0156.jpg \tnew: 20210802_033801.jpg\n",
      "old: image0157.jpg \tnew: 20210802_034301.jpg\n",
      "old: image0158.jpg \tnew: 20210802_034802.jpg\n",
      "old: image0159.jpg \tnew: 20210802_035303.jpg\n",
      "old: image0160.jpg \tnew: 20210802_035803.jpg\n",
      "old: image0161.jpg \tnew: 20210802_040304.jpg\n",
      "old: image0162.jpg \tnew: 20210802_040804.jpg\n",
      "old: image0163.jpg \tnew: 20210802_041305.jpg\n",
      "old: image0164.jpg \tnew: 20210802_041806.jpg\n",
      "old: image0165.jpg \tnew: 20210802_042306.jpg\n",
      "old: image0166.jpg \tnew: 20210802_042807.jpg\n",
      "old: image0167.jpg \tnew: 20210802_043308.jpg\n",
      "old: image0168.jpg \tnew: 20210802_043808.jpg\n",
      "old: image0169.jpg \tnew: 20210802_044309.jpg\n",
      "old: image0170.jpg \tnew: 20210802_044809.jpg\n",
      "old: image0171.jpg \tnew: 20210802_045310.jpg\n",
      "old: image0172.jpg \tnew: 20210802_045811.jpg\n",
      "old: image0173.jpg \tnew: 20210802_050311.jpg\n",
      "old: image0174.jpg \tnew: 20210802_050812.jpg\n",
      "old: image0175.jpg \tnew: 20210802_051312.jpg\n",
      "old: image0176.jpg \tnew: 20210802_051813.jpg\n",
      "old: image0177.jpg \tnew: 20210802_052314.jpg\n",
      "old: image0178.jpg \tnew: 20210802_052814.jpg\n",
      "old: image0179.jpg \tnew: 20210802_053315.jpg\n",
      "old: image0180.jpg \tnew: 20210802_053815.jpg\n",
      "old: image0181.jpg \tnew: 20210802_054316.jpg\n",
      "old: image0182.jpg \tnew: 20210802_054817.jpg\n",
      "old: image0183.jpg \tnew: 20210802_055317.jpg\n",
      "old: image0184.jpg \tnew: 20210802_055818.jpg\n",
      "old: image0185.jpg \tnew: 20210802_060319.jpg\n",
      "old: image0186.jpg \tnew: 20210802_060819.jpg\n",
      "old: image0187.jpg \tnew: 20210802_061320.jpg\n",
      "old: image0188.jpg \tnew: 20210802_061820.jpg\n",
      "old: image0189.jpg \tnew: 20210802_062321.jpg\n",
      "old: image0190.jpg \tnew: 20210802_062822.jpg\n",
      "old: image0191.jpg \tnew: 20210802_063322.jpg\n",
      "old: image0192.jpg \tnew: 20210802_063823.jpg\n",
      "old: image0193.jpg \tnew: 20210802_064324.jpg\n",
      "old: image0194.jpg \tnew: 20210802_064824.jpg\n",
      "old: image0195.jpg \tnew: 20210802_065325.jpg\n",
      "old: image0196.jpg \tnew: 20210802_065826.jpg\n",
      "old: image0197.jpg \tnew: 20210802_070326.jpg\n",
      "old: image0198.jpg \tnew: 20210802_070827.jpg\n",
      "old: image0199.jpg \tnew: 20210802_071327.jpg\n",
      "old: image0200.jpg \tnew: 20210802_071828.jpg\n",
      "old: image0201.jpg \tnew: 20210802_072329.jpg\n",
      "old: image0202.jpg \tnew: 20210802_072829.jpg\n",
      "old: image0203.jpg \tnew: 20210802_073330.jpg\n",
      "old: image0204.jpg \tnew: 20210802_073831.jpg\n",
      "old: image0205.jpg \tnew: 20210802_074331.jpg\n",
      "old: image0206.jpg \tnew: 20210802_074832.jpg\n",
      "old: image0207.jpg \tnew: 20210802_075332.jpg\n",
      "old: image0208.jpg \tnew: 20210802_075833.jpg\n",
      "old: image0209.jpg \tnew: 20210802_080334.jpg\n",
      "old: image0210.jpg \tnew: 20210802_080834.jpg\n",
      "old: image0211.jpg \tnew: 20210802_081335.jpg\n",
      "old: image0212.jpg \tnew: 20210802_081836.jpg\n",
      "old: image0213.jpg \tnew: 20210802_082336.jpg\n",
      "old: image0214.jpg \tnew: 20210802_082837.jpg\n",
      "old: image0215.jpg \tnew: 20210802_083337.jpg\n",
      "old: image0216.jpg \tnew: 20210802_083838.jpg\n",
      "old: image0217.jpg \tnew: 20210802_084339.jpg\n",
      "old: image0218.jpg \tnew: 20210802_084839.jpg\n",
      "old: image0219.jpg \tnew: 20210802_085340.jpg\n",
      "old: image0220.jpg \tnew: 20210802_085841.jpg\n",
      "old: image0221.jpg \tnew: 20210802_090341.jpg\n",
      "old: image0222.jpg \tnew: 20210802_090842.jpg\n",
      "old: image0223.jpg \tnew: 20210802_091342.jpg\n",
      "old: image0224.jpg \tnew: 20210802_091843.jpg\n",
      "old: image0225.jpg \tnew: 20210802_092344.jpg\n",
      "old: image0226.jpg \tnew: 20210802_092844.jpg\n",
      "old: image0227.jpg \tnew: 20210802_093345.jpg\n",
      "old: image0228.jpg \tnew: 20210802_093846.jpg\n",
      "old: image0229.jpg \tnew: 20210802_094346.jpg\n",
      "old: image0230.jpg \tnew: 20210802_094847.jpg\n",
      "old: image0231.jpg \tnew: 20210802_095347.jpg\n",
      "old: image0232.jpg \tnew: 20210802_095848.jpg\n",
      "old: image0233.jpg \tnew: 20210802_100349.jpg\n",
      "old: image0234.jpg \tnew: 20210802_100849.jpg\n",
      "old: image0235.jpg \tnew: 20210802_101350.jpg\n",
      "old: image0236.jpg \tnew: 20210802_101850.jpg\n",
      "old: image0237.jpg \tnew: 20210802_102351.jpg\n",
      "old: image0238.jpg \tnew: 20210802_102852.jpg\n",
      "old: image0239.jpg \tnew: 20210802_103352.jpg\n",
      "old: image0240.jpg \tnew: 20210802_103853.jpg\n",
      "old: image0241.jpg \tnew: 20210802_104353.jpg\n",
      "old: image0242.jpg \tnew: 20210802_104854.jpg\n",
      "old: image0243.jpg \tnew: 20210802_105355.jpg\n",
      "old: image0244.jpg \tnew: 20210802_105855.jpg\n",
      "old: image0245.jpg \tnew: 20210802_110356.jpg\n",
      "old: image0246.jpg \tnew: 20210802_110856.jpg\n",
      "old: image0247.jpg \tnew: 20210802_111357.jpg\n",
      "old: image0248.jpg \tnew: 20210802_111858.jpg\n",
      "old: image0249.jpg \tnew: 20210802_112358.jpg\n",
      "old: image0250.jpg \tnew: 20210802_112859.jpg\n",
      "old: image0251.jpg \tnew: 20210802_113400.jpg\n",
      "old: image0252.jpg \tnew: 20210802_113900.jpg\n",
      "old: image0253.jpg \tnew: 20210802_114401.jpg\n",
      "old: image0254.jpg \tnew: 20210802_114901.jpg\n",
      "old: image0255.jpg \tnew: 20210802_115402.jpg\n",
      "old: image0256.jpg \tnew: 20210802_115903.jpg\n",
      "old: image0257.jpg \tnew: 20210802_120403.jpg\n",
      "old: image0258.jpg \tnew: 20210802_120904.jpg\n",
      "old: image0259.jpg \tnew: 20210802_121404.jpg\n",
      "old: image0260.jpg \tnew: 20210802_121905.jpg\n",
      "old: image0261.jpg \tnew: 20210802_122406.jpg\n",
      "old: image0262.jpg \tnew: 20210802_122906.jpg\n",
      "old: image0263.jpg \tnew: 20210802_123407.jpg\n",
      "old: image0264.jpg \tnew: 20210802_123907.jpg\n",
      "old: image0265.jpg \tnew: 20210802_124408.jpg\n",
      "old: image0266.jpg \tnew: 20210802_124909.jpg\n",
      "old: image0267.jpg \tnew: 20210802_125409.jpg\n",
      "old: image0268.jpg \tnew: 20210802_125910.jpg\n",
      "old: image0269.jpg \tnew: 20210802_130411.jpg\n",
      "old: image0270.jpg \tnew: 20210802_130911.jpg\n",
      "old: image0271.jpg \tnew: 20210802_131412.jpg\n",
      "old: image0272.jpg \tnew: 20210802_131912.jpg\n",
      "old: image0273.jpg \tnew: 20210802_132413.jpg\n",
      "old: image0274.jpg \tnew: 20210802_132914.jpg\n",
      "old: image0275.jpg \tnew: 20210802_133414.jpg\n",
      "old: image0276.jpg \tnew: 20210802_133915.jpg\n",
      "old: image0277.jpg \tnew: 20210802_134415.jpg\n",
      "old: image0278.jpg \tnew: 20210802_134916.jpg\n",
      "old: image0279.jpg \tnew: 20210802_135417.jpg\n",
      "old: image0280.jpg \tnew: 20210802_135917.jpg\n",
      "old: image0281.jpg \tnew: 20210802_140418.jpg\n",
      "old: image0282.jpg \tnew: 20210802_140918.jpg\n",
      "old: image0283.jpg \tnew: 20210802_141419.jpg\n",
      "old: image0284.jpg \tnew: 20210802_141920.jpg\n",
      "old: image0285.jpg \tnew: 20210802_142420.jpg\n",
      "old: image0286.jpg \tnew: 20210802_142921.jpg\n",
      "old: image0287.jpg \tnew: 20210802_143421.jpg\n",
      "old: image0288.jpg \tnew: 20210802_143922.jpg\n",
      "old: image0289.jpg \tnew: 20210802_144422.jpg\n",
      "old: image0290.jpg \tnew: 20210802_144923.jpg\n",
      "old: image0291.jpg \tnew: 20210802_145424.jpg\n",
      "old: image0292.jpg \tnew: 20210802_145924.jpg\n",
      "old: image0293.jpg \tnew: 20210802_150425.jpg\n",
      "old: image0294.jpg \tnew: 20210802_150926.jpg\n",
      "old: image0295.jpg \tnew: 20210802_151426.jpg\n",
      "old: image0296.jpg \tnew: 20210802_151927.jpg\n",
      "old: image0297.jpg \tnew: 20210802_152427.jpg\n",
      "old: image0298.jpg \tnew: 20210802_152928.jpg\n",
      "old: image0299.jpg \tnew: 20210802_153429.jpg\n",
      "old: image0300.jpg \tnew: 20210802_153929.jpg\n",
      "old: image0301.jpg \tnew: 20210802_154430.jpg\n",
      "old: image0302.jpg \tnew: 20210802_154931.jpg\n",
      "old: image0303.jpg \tnew: 20210802_155431.jpg\n",
      "old: image0304.jpg \tnew: 20210802_155932.jpg\n",
      "old: image0305.jpg \tnew: 20210802_160432.jpg\n",
      "old: image0306.jpg \tnew: 20210802_160933.jpg\n",
      "old: image0307.jpg \tnew: 20210802_161434.jpg\n",
      "old: image0308.jpg \tnew: 20210802_161934.jpg\n",
      "old: image0309.jpg \tnew: 20210802_162435.jpg\n",
      "old: image0310.jpg \tnew: 20210802_162936.jpg\n",
      "old: image0311.jpg \tnew: 20210802_163436.jpg\n",
      "old: image0312.jpg \tnew: 20210802_163937.jpg\n",
      "old: image0313.jpg \tnew: 20210802_164437.jpg\n",
      "old: image0314.jpg \tnew: 20210802_164938.jpg\n",
      "old: image0315.jpg \tnew: 20210802_165439.jpg\n",
      "old: image0316.jpg \tnew: 20210802_165939.jpg\n",
      "old: image0317.jpg \tnew: 20210802_170440.jpg\n",
      "old: image0318.jpg \tnew: 20210802_170941.jpg\n",
      "old: image0319.jpg \tnew: 20210802_171441.jpg\n",
      "old: image0320.jpg \tnew: 20210802_171942.jpg\n",
      "old: image0321.jpg \tnew: 20210802_172442.jpg\n",
      "old: image0322.jpg \tnew: 20210802_172943.jpg\n",
      "old: image0323.jpg \tnew: 20210802_173444.jpg\n",
      "old: image0324.jpg \tnew: 20210802_173944.jpg\n",
      "old: image0325.jpg \tnew: 20210802_174445.jpg\n",
      "old: image0326.jpg \tnew: 20210802_174945.jpg\n",
      "old: image0327.jpg \tnew: 20210802_175446.jpg\n",
      "old: image0328.jpg \tnew: 20210802_175947.jpg\n",
      "old: image0329.jpg \tnew: 20210802_180447.jpg\n",
      "old: image0330.jpg \tnew: 20210802_180948.jpg\n",
      "old: image0331.jpg \tnew: 20210802_181449.jpg\n",
      "old: image0332.jpg \tnew: 20210802_181949.jpg\n",
      "old: image0333.jpg \tnew: 20210802_182450.jpg\n",
      "old: image0334.jpg \tnew: 20210802_182950.jpg\n",
      "old: image0335.jpg \tnew: 20210802_183451.jpg\n",
      "old: image0336.jpg \tnew: 20210802_183952.jpg\n",
      "old: image0337.jpg \tnew: 20210802_184452.jpg\n",
      "old: image0338.jpg \tnew: 20210802_184953.jpg\n",
      "old: image0339.jpg \tnew: 20210802_185454.jpg\n",
      "old: image0340.jpg \tnew: 20210802_185954.jpg\n",
      "old: image0341.jpg \tnew: 20210802_190455.jpg\n",
      "old: image0342.jpg \tnew: 20210802_190955.jpg\n",
      "old: image0343.jpg \tnew: 20210802_191456.jpg\n",
      "old: image0344.jpg \tnew: 20210802_191957.jpg\n",
      "old: image0345.jpg \tnew: 20210802_192457.jpg\n",
      "old: image0346.jpg \tnew: 20210802_192958.jpg\n",
      "old: image0347.jpg \tnew: 20210802_193459.jpg\n",
      "old: image0348.jpg \tnew: 20210802_193959.jpg\n",
      "old: image0349.jpg \tnew: 20210802_194500.jpg\n",
      "old: image0350.jpg \tnew: 20210802_195000.jpg\n",
      "old: image0351.jpg \tnew: 20210802_195501.jpg\n",
      "old: image0352.jpg \tnew: 20210802_200002.jpg\n",
      "old: image0353.jpg \tnew: 20210802_200502.jpg\n",
      "old: image0354.jpg \tnew: 20210802_201003.jpg\n",
      "old: image0355.jpg \tnew: 20210802_201504.jpg\n",
      "old: image0356.jpg \tnew: 20210802_202004.jpg\n",
      "old: image0357.jpg \tnew: 20210802_202505.jpg\n",
      "old: image0358.jpg \tnew: 20210802_203005.jpg\n",
      "old: image0359.jpg \tnew: 20210802_203506.jpg\n",
      "old: image0360.jpg \tnew: 20210802_204007.jpg\n",
      "old: image0361.jpg \tnew: 20210802_204507.jpg\n",
      "old: image0362.jpg \tnew: 20210802_205008.jpg\n",
      "old: image0363.jpg \tnew: 20210802_205509.jpg\n"
     ]
    },
    {
     "name": "stdin",
     "output_type": "stream",
     "text": [
      "rename files? type \"yes\" to continue: yes\n"
     ]
    }
   ],
   "source": [
    "#pth = '/Volumes/Data/Results/Data Processor/Calibration/data'\n",
    "#pth = r'C:\\Users\\queezz\\Dropbox\\workspace\\PiGarden\\images'\n",
    "pth = r'C:\\Users\\queezz\\OneDrive\\Рабочий стол\\images'\n",
    "\n",
    "lsd = os.listdir(pth)\n",
    "c0 = [n for n in lsd if '.jpg' in n]\n",
    "c1 = [f'{get_date_taken(i)}.jpg' for i in lsd]\n",
    "#c1 = [f'img{i:04d}.jpg' for i in range(len(c0))]\n",
    "#c1 = ['%s.txt'%(n.split('.')[0]) for n in c0]\n",
    "for old,new in zip(c0,c1):\n",
    "    print ('old:',old,'\\tnew:',new)\n",
    "if input('rename files? type \"yes\" to continue:') == 'yes':\n",
    "    for old,new in zip(c0,c1):\n",
    "        os.rename(os.path.join(pth,old),os.path.join(pth,new))\n",
    "else: \n",
    "    print ('operation cancelled')"
   ]
  },
  {
   "cell_type": "code",
   "execution_count": 4,
   "metadata": {
    "collapsed": false,
    "jupyter": {
     "outputs_hidden": false
    },
    "scrolled": true
   },
   "outputs": [
    {
     "name": "stdout",
     "output_type": "stream",
     "text": [
      "old: SX_sl1000_31521.csv \tnew: LP_sl1000_31521.csv\n",
      "old: SX_sl1000_31513.csv \tnew: LP_sl1000_31513.csv\n",
      "old: SX_sl1000_31514.csv \tnew: LP_sl1000_31514.csv\n",
      "old: SX_sl1000_31515.csv \tnew: LP_sl1000_31515.csv\n",
      "old: SX_sl1000_31512.csv \tnew: LP_sl1000_31512.csv\n",
      "old: SX_sl1000_31520.csv \tnew: LP_sl1000_31520.csv\n",
      "old: SX_sl1000_31518.csv \tnew: LP_sl1000_31518.csv\n",
      "old: SX_sl1000_31516.csv \tnew: LP_sl1000_31516.csv\n",
      "old: SX_sl1000_31523.csv \tnew: LP_sl1000_31523.csv\n",
      "old: SX_sl1000_31522.csv \tnew: LP_sl1000_31522.csv\n",
      "old: SX_sl1000_31517.csv \tnew: LP_sl1000_31517.csv\n",
      "old: SX_sl1000_31519.csv \tnew: LP_sl1000_31519.csv\n",
      "rename files? type \"yes\" to continue:yes\n"
     ]
    }
   ],
   "source": [
    "pth = '/Volumes/Data/SXandSOLprobe/20160302/20160302_000'\n",
    "'LP_sl1000_'\n",
    "lsd = os.listdir(pth)\n",
    "c0 = [n for n in lsd if '.csv' in n]\n",
    "c1 = ['LP_sl1000_%s'%(n.split('_')[-1]) for n in c0]\n",
    "for old,new in zip(c0,c1):\n",
    "    print 'old:',old,'\\tnew:',new\n",
    "if raw_input('rename files? type \"yes\" to continue:') == 'yes':\n",
    "    for old,new in zip(c0,c1):\n",
    "        os.rename(os.path.join(pth,old),os.path.join(pth,new))\n",
    "else: \n",
    "    print 'operation cancelled'"
   ]
  },
  {
   "cell_type": "code",
   "execution_count": 35,
   "metadata": {},
   "outputs": [],
   "source": [
    "pth = 'F:\\iPhone_backups\\iphone_backup_unsorted'\n",
    "\n",
    "lsd = os.listdir(pth)"
   ]
  },
  {
   "cell_type": "code",
   "execution_count": 36,
   "metadata": {},
   "outputs": [
    {
     "data": {
      "text/plain": [
       "' '"
      ]
     },
     "execution_count": 36,
     "metadata": {},
     "output_type": "execute_result"
    }
   ],
   "source": [
    "lsd[0][-6]"
   ]
  },
  {
   "cell_type": "code",
   "execution_count": 37,
   "metadata": {},
   "outputs": [],
   "source": [
    "lst1 = [i for i in lsd if i[-6] == ' ']"
   ]
  },
  {
   "cell_type": "code",
   "execution_count": 40,
   "metadata": {},
   "outputs": [],
   "source": [
    "for i in lst1:\n",
    "    try:\n",
    "        os.remove(join(pth,i))\n",
    "    except:\n",
    "        print i"
   ]
  },
  {
   "cell_type": "code",
   "execution_count": 56,
   "metadata": {
    "collapsed": false,
    "jupyter": {
     "outputs_hidden": false
    },
    "scrolled": true
   },
   "outputs": [
    {
     "name": "stdout",
     "output_type": "stream",
     "text": [
      "old: 133325_ch10_4.90-5.20.txt     new: 133325_ch010_4.90-5.20.txt\n",
      "old: 133325_ch11_4.90-5.20.txt     new: 133325_ch011_4.90-5.20.txt\n",
      "old: 133325_ch12_4.90-5.20.txt     new: 133325_ch012_4.90-5.20.txt\n",
      "old: 133325_ch13_4.90-5.20.txt     new: 133325_ch013_4.90-5.20.txt\n",
      "old: 133325_ch14_4.90-5.20.txt     new: 133325_ch014_4.90-5.20.txt\n",
      "old: 133325_ch15_4.90-5.20.txt     new: 133325_ch015_4.90-5.20.txt\n",
      "old: 133325_ch16_4.90-5.20.txt     new: 133325_ch016_4.90-5.20.txt\n",
      "old: 133325_ch17_4.90-5.20.txt     new: 133325_ch017_4.90-5.20.txt\n",
      "old: 133325_ch18_4.90-5.20.txt     new: 133325_ch018_4.90-5.20.txt\n",
      "old: 133325_ch19_4.90-5.20.txt     new: 133325_ch019_4.90-5.20.txt\n",
      "old: 133325_ch24_4.90-5.20.txt     new: 133325_ch024_4.90-5.20.txt\n",
      "old: 133325_ch26_4.90-5.20.txt     new: 133325_ch026_4.90-5.20.txt\n",
      "old: 133325_ch27_4.90-5.20.txt     new: 133325_ch027_4.90-5.20.txt\n",
      "old: 133325_ch28_4.90-5.20.txt     new: 133325_ch028_4.90-5.20.txt\n",
      "old: 133325_ch29_4.90-5.20.txt     new: 133325_ch029_4.90-5.20.txt\n",
      "old: 133325_ch30_4.90-5.20.txt     new: 133325_ch030_4.90-5.20.txt\n",
      "old: 133325_ch31_4.90-5.20.txt     new: 133325_ch031_4.90-5.20.txt\n",
      "old: 133325_ch32_4.90-5.20.txt     new: 133325_ch032_4.90-5.20.txt\n",
      "old: 133325_ch33_4.90-5.20.txt     new: 133325_ch033_4.90-5.20.txt\n",
      "old: 133325_ch34_4.90-5.20.txt     new: 133325_ch034_4.90-5.20.txt\n",
      "old: 133325_ch35_4.90-5.20.txt     new: 133325_ch035_4.90-5.20.txt\n",
      "old: 133325_ch36_4.90-5.20.txt     new: 133325_ch036_4.90-5.20.txt\n",
      "old: 133325_ch37_4.90-5.20.txt     new: 133325_ch037_4.90-5.20.txt\n",
      "old: 133325_ch38_4.90-5.20.txt     new: 133325_ch038_4.90-5.20.txt\n",
      "old: 133325_ch39_4.90-5.20.txt     new: 133325_ch039_4.90-5.20.txt\n",
      "old: 133325_ch40_4.90-5.20.txt     new: 133325_ch040_4.90-5.20.txt\n",
      "old: 133325_ch41_4.90-5.20.txt     new: 133325_ch041_4.90-5.20.txt\n",
      "old: 133325_ch42_4.90-5.20.txt     new: 133325_ch042_4.90-5.20.txt\n",
      "old: 133325_ch44_4.90-5.20.txt     new: 133325_ch044_4.90-5.20.txt\n",
      "old: 133325_ch46_4.90-5.20.txt     new: 133325_ch046_4.90-5.20.txt\n",
      "old: 133325_ch47_4.90-5.20.txt     new: 133325_ch047_4.90-5.20.txt\n",
      "old: 133325_ch48_4.90-5.20.txt     new: 133325_ch048_4.90-5.20.txt\n",
      "old: 133325_ch49_4.90-5.20.txt     new: 133325_ch049_4.90-5.20.txt\n",
      "old: 133325_ch50_4.90-5.20.txt     new: 133325_ch050_4.90-5.20.txt\n",
      "old: 133325_ch51_4.90-5.20.txt     new: 133325_ch051_4.90-5.20.txt\n",
      "old: 133325_ch52_4.90-5.20.txt     new: 133325_ch052_4.90-5.20.txt\n",
      "old: 133325_ch53_4.90-5.20.txt     new: 133325_ch053_4.90-5.20.txt\n",
      "old: 133325_ch54_4.90-5.20.txt     new: 133325_ch054_4.90-5.20.txt\n",
      "old: 133325_ch55_4.90-5.20.txt     new: 133325_ch055_4.90-5.20.txt\n",
      "old: 133325_ch56_4.90-5.20.txt     new: 133325_ch056_4.90-5.20.txt\n",
      "old: 133325_ch57_4.90-5.20.txt     new: 133325_ch057_4.90-5.20.txt\n",
      "old: 133325_ch58_4.90-5.20.txt     new: 133325_ch058_4.90-5.20.txt\n",
      "old: 133325_ch59_4.90-5.20.txt     new: 133325_ch059_4.90-5.20.txt\n",
      "old: 133325_ch61_4.90-5.20.txt     new: 133325_ch061_4.90-5.20.txt\n",
      "old: 133325_ch62_4.90-5.20.txt     new: 133325_ch062_4.90-5.20.txt\n",
      "old: 133325_ch63_4.90-5.20.txt     new: 133325_ch063_4.90-5.20.txt\n",
      "old: 133325_ch64_4.90-5.20.txt     new: 133325_ch064_4.90-5.20.txt\n",
      "old: 133325_ch65_4.90-5.20.txt     new: 133325_ch065_4.90-5.20.txt\n",
      "old: 133325_ch66_4.90-5.20.txt     new: 133325_ch066_4.90-5.20.txt\n",
      "old: 133325_ch67_4.90-5.20.txt     new: 133325_ch067_4.90-5.20.txt\n",
      "old: 133325_ch68_4.90-5.20.txt     new: 133325_ch068_4.90-5.20.txt\n",
      "old: 133325_ch69_4.90-5.20.txt     new: 133325_ch069_4.90-5.20.txt\n",
      "old: 133325_ch70_4.90-5.20.txt     new: 133325_ch070_4.90-5.20.txt\n",
      "old: 133325_ch71_4.90-5.20.txt     new: 133325_ch071_4.90-5.20.txt\n",
      "old: 133325_ch74_4.90-5.20.txt     new: 133325_ch074_4.90-5.20.txt\n",
      "old: 133325_ch75_4.90-5.20.txt     new: 133325_ch075_4.90-5.20.txt\n",
      "old: 133325_ch77_4.90-5.20.txt     new: 133325_ch077_4.90-5.20.txt\n",
      "old: 133325_ch82_4.90-5.20.txt     new: 133325_ch082_4.90-5.20.txt\n",
      "old: 133325_ch84_4.90-5.20.txt     new: 133325_ch084_4.90-5.20.txt\n",
      "old: 133325_ch88_4.90-5.20.txt     new: 133325_ch088_4.90-5.20.txt\n",
      "old: 133325_ch89_4.90-5.20.txt     new: 133325_ch089_4.90-5.20.txt\n",
      "old: 133325_ch90_4.90-5.20.txt     new: 133325_ch090_4.90-5.20.txt\n",
      "old: 133325_ch91_4.90-5.20.txt     new: 133325_ch091_4.90-5.20.txt\n",
      "old: 133325_ch92_4.90-5.20.txt     new: 133325_ch092_4.90-5.20.txt\n",
      "old: 133325_ch93_4.90-5.20.txt     new: 133325_ch093_4.90-5.20.txt\n",
      "old: 133325_ch94_4.90-5.20.txt     new: 133325_ch094_4.90-5.20.txt\n",
      "old: 133325_ch95_4.90-5.20.txt     new: 133325_ch095_4.90-5.20.txt\n",
      "old: 133325_ch98_4.90-5.20.txt     new: 133325_ch098_4.90-5.20.txt\n",
      "old: 133325_ch9_4.90-5.20.txt     new: 133325_ch009_4.90-5.20.txt\n"
     ]
    },
    {
     "name": "stdin",
     "output_type": "stream",
     "text": [
      "rename files? type \"yes\" to continue: yes\n"
     ]
    }
   ],
   "source": [
    "pth = r'C:\\Users\\Arseniy\\Desktop\\LPA\\133325'\n",
    "lsd = os.listdir(pth)\n",
    "\n",
    "c1 = [i for i in lsd if len(i.split('_')[1]) < 5]\n",
    "chnls = [int(i.split('_')[1][2:]) for i in c1]\n",
    "chnls = ['ch{:03d}'.format(i) for i in chnls]\n",
    "c2 = [i.split('_') for i in c1]\n",
    "for i,_ in enumerate(c2):\n",
    "    c2[i][1] = chnls[i]\n",
    "    \n",
    "c3 = ['_'.join(k for k in i) for i in c2]\n",
    "\n",
    "\n",
    "for old,new in zip(c1,c3):\n",
    "    print 'old:',old,'    new:',new\n",
    "if raw_input('rename files? type \"yes\" to continue:') == 'yes':\n",
    "    for old,new in zip(c1,c3):\n",
    "        os.rename(os.path.join(pth,old),os.path.join(pth,new))\n",
    "else: \n",
    "    print 'operation cancelled'"
   ]
  },
  {
   "cell_type": "markdown",
   "metadata": {},
   "source": [
    "# Clarke CD rename"
   ]
  },
  {
   "cell_type": "code",
   "execution_count": 16,
   "metadata": {},
   "outputs": [],
   "source": [
    "%run ../python_scripts/tools.py"
   ]
  },
  {
   "cell_type": "code",
   "execution_count": 3,
   "metadata": {},
   "outputs": [
    {
     "data": {
      "text/plain": [
       "'/Users/queezz/Dropbox/MyWhistles/Ian Bascombe/Clarke CD 2'"
      ]
     },
     "execution_count": 3,
     "metadata": {},
     "output_type": "execute_result"
    }
   ],
   "source": [
    "pth = join(docs(40),'Dropbox','MyWhistles','Ian Bascombe','Clarke CD 2')"
   ]
  },
  {
   "cell_type": "code",
   "execution_count": 19,
   "metadata": {
    "collapsed": false,
    "jupyter": {
     "outputs_hidden": false
    },
    "scrolled": true
   },
   "outputs": [
    {
     "name": "stdout",
     "output_type": "stream",
     "text": [
      "old: .DS_Store \tnew: .DS_Store.wav\n",
      "old: CD-1 \tnew: CD-1.wav\n",
      "old: CD-10 \tnew: CD-10.wav\n",
      "old: CD-100 \tnew: CD-100.wav\n",
      "old: CD-101 \tnew: CD-101.wav\n",
      "old: CD-102 \tnew: CD-102.wav\n",
      "old: CD-103 \tnew: CD-103.wav\n",
      "old: CD-104 \tnew: CD-104.wav\n",
      "old: CD-105 \tnew: CD-105.wav\n",
      "old: CD-106 \tnew: CD-106.wav\n",
      "old: CD-107 \tnew: CD-107.wav\n",
      "old: CD-108 \tnew: CD-108.wav\n",
      "old: CD-109 \tnew: CD-109.wav\n",
      "old: CD-11 \tnew: CD-11.wav\n",
      "old: CD-110 \tnew: CD-110.wav\n",
      "old: CD-111 \tnew: CD-111.wav\n",
      "old: CD-112 \tnew: CD-112.wav\n",
      "old: CD-113 \tnew: CD-113.wav\n",
      "old: CD-114 \tnew: CD-114.wav\n",
      "old: CD-115 \tnew: CD-115.wav\n",
      "old: CD-116 \tnew: CD-116.wav\n",
      "old: CD-117 \tnew: CD-117.wav\n",
      "old: CD-118 \tnew: CD-118.wav\n",
      "old: CD-119 \tnew: CD-119.wav\n",
      "old: CD-12 \tnew: CD-12.wav\n",
      "old: CD-120 \tnew: CD-120.wav\n",
      "old: CD-121 \tnew: CD-121.wav\n",
      "old: CD-122 \tnew: CD-122.wav\n",
      "old: CD-123 \tnew: CD-123.wav\n",
      "old: CD-124 \tnew: CD-124.wav\n",
      "old: CD-125 \tnew: CD-125.wav\n",
      "old: CD-126 \tnew: CD-126.wav\n",
      "old: CD-127 \tnew: CD-127.wav\n",
      "old: CD-128 \tnew: CD-128.wav\n",
      "old: CD-13 \tnew: CD-13.wav\n",
      "old: CD-14 \tnew: CD-14.wav\n",
      "old: CD-15 \tnew: CD-15.wav\n",
      "old: CD-16 \tnew: CD-16.wav\n",
      "old: CD-17 \tnew: CD-17.wav\n",
      "old: CD-18 \tnew: CD-18.wav\n",
      "old: CD-19 \tnew: CD-19.wav\n",
      "old: CD-2 \tnew: CD-2.wav\n",
      "old: CD-20 \tnew: CD-20.wav\n",
      "old: CD-21 \tnew: CD-21.wav\n",
      "old: CD-22 \tnew: CD-22.wav\n",
      "old: CD-23 \tnew: CD-23.wav\n",
      "old: CD-24 \tnew: CD-24.wav\n",
      "old: CD-25 \tnew: CD-25.wav\n",
      "old: CD-26 \tnew: CD-26.wav\n",
      "old: CD-27 \tnew: CD-27.wav\n",
      "old: CD-28 \tnew: CD-28.wav\n",
      "old: CD-29 \tnew: CD-29.wav\n",
      "old: CD-3 \tnew: CD-3.wav\n",
      "old: CD-30 \tnew: CD-30.wav\n",
      "old: CD-31 \tnew: CD-31.wav\n",
      "old: CD-32 \tnew: CD-32.wav\n",
      "old: CD-33 \tnew: CD-33.wav\n",
      "old: CD-34 \tnew: CD-34.wav\n",
      "old: CD-35 \tnew: CD-35.wav\n",
      "old: CD-36 \tnew: CD-36.wav\n",
      "old: CD-37 \tnew: CD-37.wav\n",
      "old: CD-38 \tnew: CD-38.wav\n",
      "old: CD-39 \tnew: CD-39.wav\n",
      "old: CD-4 \tnew: CD-4.wav\n",
      "old: CD-40 \tnew: CD-40.wav\n",
      "old: CD-41 \tnew: CD-41.wav\n",
      "old: CD-42 \tnew: CD-42.wav\n",
      "old: CD-43 \tnew: CD-43.wav\n",
      "old: CD-44 \tnew: CD-44.wav\n",
      "old: CD-45 \tnew: CD-45.wav\n",
      "old: CD-46 \tnew: CD-46.wav\n",
      "old: CD-47 \tnew: CD-47.wav\n",
      "old: CD-48 \tnew: CD-48.wav\n",
      "old: CD-49 \tnew: CD-49.wav\n",
      "old: CD-5 \tnew: CD-5.wav\n",
      "old: CD-50 \tnew: CD-50.wav\n",
      "old: CD-51 \tnew: CD-51.wav\n",
      "old: CD-52 \tnew: CD-52.wav\n",
      "old: CD-53 \tnew: CD-53.wav\n",
      "old: CD-54 \tnew: CD-54.wav\n",
      "old: CD-55 \tnew: CD-55.wav\n",
      "old: CD-56 \tnew: CD-56.wav\n",
      "old: CD-57 \tnew: CD-57.wav\n",
      "old: CD-58 \tnew: CD-58.wav\n",
      "old: CD-59 \tnew: CD-59.wav\n",
      "old: CD-6 \tnew: CD-6.wav\n",
      "old: CD-60 \tnew: CD-60.wav\n",
      "old: CD-61 \tnew: CD-61.wav\n",
      "old: CD-62 \tnew: CD-62.wav\n",
      "old: CD-63 \tnew: CD-63.wav\n",
      "old: CD-64 \tnew: CD-64.wav\n",
      "old: CD-65 \tnew: CD-65.wav\n",
      "old: CD-66 \tnew: CD-66.wav\n",
      "old: CD-67 \tnew: CD-67.wav\n",
      "old: CD-68 \tnew: CD-68.wav\n",
      "old: CD-69 \tnew: CD-69.wav\n",
      "old: CD-7 \tnew: CD-7.wav\n",
      "old: CD-70 \tnew: CD-70.wav\n",
      "old: CD-71 \tnew: CD-71.wav\n",
      "old: CD-72 \tnew: CD-72.wav\n",
      "old: CD-73 \tnew: CD-73.wav\n",
      "old: CD-74 \tnew: CD-74.wav\n",
      "old: CD-75 \tnew: CD-75.wav\n",
      "old: CD-76 \tnew: CD-76.wav\n",
      "old: CD-77 \tnew: CD-77.wav\n",
      "old: CD-78 \tnew: CD-78.wav\n",
      "old: CD-79 \tnew: CD-79.wav\n",
      "old: CD-8 \tnew: CD-8.wav\n",
      "old: CD-80 \tnew: CD-80.wav\n",
      "old: CD-81 \tnew: CD-81.wav\n",
      "old: CD-82 \tnew: CD-82.wav\n",
      "old: CD-83 \tnew: CD-83.wav\n",
      "old: CD-84 \tnew: CD-84.wav\n",
      "old: CD-85 \tnew: CD-85.wav\n",
      "old: CD-86 \tnew: CD-86.wav\n",
      "old: CD-87 \tnew: CD-87.wav\n",
      "old: CD-88 \tnew: CD-88.wav\n",
      "old: CD-89 \tnew: CD-89.wav\n",
      "old: CD-9 \tnew: CD-9.wav\n",
      "old: CD-90 \tnew: CD-90.wav\n",
      "old: CD-91 \tnew: CD-91.wav\n",
      "old: CD-92 \tnew: CD-92.wav\n",
      "old: CD-93 \tnew: CD-93.wav\n",
      "old: CD-94 \tnew: CD-94.wav\n",
      "old: CD-95 \tnew: CD-95.wav\n",
      "old: CD-96 \tnew: CD-96.wav\n",
      "old: CD-97 \tnew: CD-97.wav\n",
      "old: CD-98 \tnew: CD-98.wav\n",
      "old: CD-99 \tnew: CD-99.wav\n"
     ]
    },
    {
     "name": "stdin",
     "output_type": "stream",
     "text": [
      "rename files? type \"yes\" to continue: yes\n"
     ]
    }
   ],
   "source": [
    "pth = join(docs(40),'Dropbox','MyWhistles','Ian Bascombe')\n",
    "lsd = sorted(os.listdir(pth))\n",
    "\n",
    "#c0 = [n for n in lsd if '.wav' in n]\n",
    "c0 = lsd\n",
    "#c1 = ['CD-{}'.format(int(n.split(' ')[0])) for n in c0]\n",
    "c1 = ['{}.wav'.format(n) for n in c0]\n",
    "\n",
    "for old,new in zip(c0,c1):\n",
    "    print 'old:',old,'\\tnew:',new\n",
    "if raw_input('rename files? type \"yes\" to continue:') == 'yes':\n",
    "    for old,new in zip(c0,c1):\n",
    "        os.rename(os.path.join(pth,old),os.path.join(pth,new))\n",
    "else: \n",
    "    print 'operation cancelled'"
   ]
  }
 ],
 "metadata": {
  "kernelspec": {
   "display_name": "Python 3",
   "language": "python",
   "name": "python3"
  },
  "language_info": {
   "codemirror_mode": {
    "name": "ipython",
    "version": 3
   },
   "file_extension": ".py",
   "mimetype": "text/x-python",
   "name": "python",
   "nbconvert_exporter": "python",
   "pygments_lexer": "ipython3",
   "version": "3.9.5"
  }
 },
 "nbformat": 4,
 "nbformat_minor": 4
}
