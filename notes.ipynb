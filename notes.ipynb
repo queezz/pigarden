{
 "cells": [
  {
   "cell_type": "code",
   "execution_count": 1,
   "source": [
    "import datetime\r\n",
    "from datetime import time\r\n",
    "import os\r\n",
    "from os.path import join\r\n",
    "import subprocess"
   ],
   "outputs": [],
   "metadata": {}
  },
  {
   "cell_type": "code",
   "execution_count": 2,
   "source": [
    "bpth = os.path.join(os.path.expanduser('~'),'Desktop','images')\r\n",
    "imlist = sorted([i for i in os.listdir(bpth) if i.endswith('.jpg')])\r\n",
    "dur = 0.01\r\n",
    "with open(join(bpth,'timelapse.txt'),'w') as f:\r\n",
    "    for i in imlist:\r\n",
    "        f.write('file ' + i+'\\n' + f'duration {dur}\\n')"
   ],
   "outputs": [],
   "metadata": {}
  },
  {
   "cell_type": "code",
   "execution_count": 3,
   "source": [
    "frate = 200\r\n",
    "fname = 'image'\r\n",
    "out = join(os.path.expanduser('~'),'Dropbox','workspace','PiGarden','movie.mp4')\r\n",
    "cwd = bpth\r\n",
    "l = 'timelapse.txt'\r\n",
    "txt = f\"ffmpeg -f concat -i {l} -r 30 -c:v libx264 -crf 18  {out} -y\"\r\n",
    "print(txt)\r\n",
    "subprocess.call(txt, shell=True, cwd=cwd)"
   ],
   "outputs": [
    {
     "output_type": "stream",
     "name": "stdout",
     "text": [
      "ffmpeg -f concat -i timelapse.txt -r 30 -c:v libx264 -crf 18  C:\\Users\\queezz\\Dropbox\\workspace\\PiGarden\\movie.mp4 -y\n"
     ]
    },
    {
     "output_type": "execute_result",
     "data": {
      "text/plain": [
       "0"
      ]
     },
     "metadata": {},
     "execution_count": 3
    }
   ],
   "metadata": {}
  }
 ],
 "metadata": {
  "interpreter": {
   "hash": "5ab8219efdcbfc7b14ee8cc04c545390b56d8bc74c3742ea7c6bd2e196d6f2f0"
  },
  "kernelspec": {
   "name": "python3",
   "display_name": "Python 3.9.5 64-bit"
  },
  "language_info": {
   "codemirror_mode": {
    "name": "ipython",
    "version": 3
   },
   "file_extension": ".py",
   "mimetype": "text/x-python",
   "name": "python",
   "nbconvert_exporter": "python",
   "pygments_lexer": "ipython3",
   "version": "3.9.5"
  }
 },
 "nbformat": 4,
 "nbformat_minor": 5
}