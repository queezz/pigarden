{
 "cells": [
  {
   "cell_type": "code",
   "execution_count": 1,
   "metadata": {},
   "outputs": [],
   "source": [
    "import pandas as pd"
   ]
  },
  {
   "cell_type": "code",
   "execution_count": 2,
   "metadata": {},
   "outputs": [],
   "source": [
    "def load_data(csv_file):\n",
    "    df = pd.read_csv(csv_file, names=[\"timestamp\", \"day/night\", \"drystate\"])\n",
    "    df = df.apply(lambda x: x.str.strip() if x.dtype == \"object\" else x)\n",
    "    df[\"timestamp\"] = pd.to_datetime(df[\"timestamp\"])\n",
    "    df[\"day/night\"] = df[\"day/night\"].str.replace(\"night =\", \"\")\n",
    "    df[\"day/night\"] = df[\"day/night\"].str.replace(\"True\", \"Night\")\n",
    "    df[\"day/night\"] = df[\"day/night\"].str.replace(\"False\", \"Day\")\n",
    "    df['day/night'] = df['day/night'].str.strip()\n",
    "    df[\"drystate\"] = df[\"drystate\"].str.replace(\"DRYSTATE =\", \"\")\n",
    "    df[\"drystate\"] = df[\"drystate\"].str.replace(\"True\", \"Dry\")\n",
    "    df[\"drystate\"] = df[\"drystate\"].str.replace(\"False\", \"Wet\")\n",
    "    df['drystate'] = df['drystate'].str.strip()\n",
    "    return df"
   ]
  },
  {
   "cell_type": "code",
   "execution_count": 3,
   "metadata": {},
   "outputs": [],
   "source": [
    "csv_file = \"logwater.txt\" \n",
    "df = load_data(csv_file)"
   ]
  },
  {
   "cell_type": "code",
   "execution_count": 4,
   "metadata": {},
   "outputs": [],
   "source": [
    "def highlight_dry_cells(val):\n",
    "    if \"Dry\" in val:\n",
    "        return \"background-color: yellow\"\n",
    "    else:\n",
    "        return \"\""
   ]
  },
  {
   "cell_type": "code",
   "execution_count": 5,
   "metadata": {},
   "outputs": [],
   "source": [
    "styled_df = df.style.applymap(highlight_dry_cells, subset=[\"drystate\"])\n",
    "styled_html = styled_df.to_html(index=False)\n",
    "#with open(\"styled.html\", \"w\") as f: f.write(styled_html)"
   ]
  }
 ],
 "metadata": {
  "kernelspec": {
   "display_name": "base",
   "language": "python",
   "name": "python3"
  },
  "language_info": {
   "codemirror_mode": {
    "name": "ipython",
    "version": 3
   },
   "file_extension": ".py",
   "mimetype": "text/x-python",
   "name": "python",
   "nbconvert_exporter": "python",
   "pygments_lexer": "ipython3",
   "version": "3.9.12"
  },
  "orig_nbformat": 4
 },
 "nbformat": 4,
 "nbformat_minor": 2
}
